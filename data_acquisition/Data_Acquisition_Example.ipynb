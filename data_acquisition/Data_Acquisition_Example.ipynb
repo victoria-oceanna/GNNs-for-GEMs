{
 "cells": [
  {
   "cell_type": "code",
   "execution_count": null,
   "id": "f430d0ae",
   "metadata": {},
   "outputs": [
    {
     "name": "stdin",
     "output_type": "stream",
     "text": [
      "Input ModelSEED username:  victoria.oceanna\n",
      "patric password:  ··········\n"
     ]
    },
    {
     "name": "stdout",
     "output_type": "stream",
     "text": [
      "All models in metadata were previously constructed.\n"
     ]
    },
    {
     "name": "stdin",
     "output_type": "stream",
     "text": [
      "Cores available:  3\n"
     ]
    },
    {
     "name": "stderr",
     "output_type": "stream",
     "text": [
      "[Parallel(n_jobs=3)]: Using backend MultiprocessingBackend with 3 concurrent workers.\n"
     ]
    }
   ],
   "source": [
    "import mackinac as mk\n",
    "import joblib\n",
    "from joblib import Parallel, delayed\n",
    "from request_functions import *\n",
    "\n",
    "#Set current ModelSEED client information\n",
    "mk.modelseed.ms_client.url = 'https://p3.theseed.org/services/ProbModelSEED/'\n",
    "mk.workspace.ws_client.url = 'https://p3.theseed.org/services/Workspace'\n",
    "mk.genome.patric_url = 'https://user.patricbrc.org/authenticate'\n",
    "\n",
    "#Obtain token; get_token will prompt password input\n",
    "username = input(\"Input ModelSEED username: \")\n",
    "mk.get_token(username)\n",
    "\n",
    "#Load metadata from csv file\n",
    "metadata = pd.read_csv(\"Ecoli_metadata.csv\", delimiter=',')\n",
    "metadata = metadata.drop([0])\n",
    "\n",
    "#Note models which already exist in ModelSEED workspace\n",
    "models = mk.list_modelseed_models()\n",
    "model_ref = list((model['ref']) for model in models)\n",
    "constructed_model_ids = []\n",
    "for model in model_ref:\n",
    "    model_id = model.split(\"modelseed/\")[1]\n",
    "    constructed_model_ids.append(model_id)\n",
    "\n",
    "#Construct new models\n",
    "model_indices = metadata.index.values.tolist()\n",
    "count= 0\n",
    "for i in model_indices:\n",
    "    if metadata.at[i,'Genome ID'] not in constructed_model_ids:\n",
    "        print(\"Constructing \" + str(metadata.at[i,'Genome ID']))\n",
    "        run_with_limited_time(construct_models, (metadata, i), {}, 3)\n",
    "    else:\n",
    "        #print(\"Genome \" + str(metadata.at[i,'Genome ID']) + \" already constructed\")\n",
    "        count = count+1\n",
    "        if count == len(model_indices):\n",
    "            print(\"All models in metadata were previously constructed.\")\n",
    "        pass\n",
    "    \n",
    "#Get model information - stoichiometric matrices and metabolite info - from construccted models\n",
    "#Parallelize according to number of available cores - INPUT MUST BE INTEGER\n",
    "cores = int(input(\"Cores available: \"))\n",
    "parent_directory = os.getcwd()\n",
    "with joblib.parallel_backend(backend=\"multiprocessing\"):\n",
    "    results = Parallel(n_jobs=cores, verbose = 30, timeout = 30000)(delayed(get_model_info)(constructed_model_ids, i, parent_directory) for i in range(0,len(constructed_model_ids)))"
   ]
  },
  {
   "cell_type": "code",
   "execution_count": null,
   "id": "d07dc3e8",
   "metadata": {},
   "outputs": [],
   "source": []
  }
 ],
 "metadata": {
  "kernelspec": {
   "display_name": "for_Modelseed",
   "language": "python",
   "name": "modelseed"
  },
  "language_info": {
   "codemirror_mode": {
    "name": "ipython",
    "version": 3
   },
   "file_extension": ".py",
   "mimetype": "text/x-python",
   "name": "python",
   "nbconvert_exporter": "python",
   "pygments_lexer": "ipython3",
   "version": "3.10.8"
  }
 },
 "nbformat": 4,
 "nbformat_minor": 5
}
