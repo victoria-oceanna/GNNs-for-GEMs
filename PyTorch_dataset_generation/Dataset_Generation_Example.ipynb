{
 "cells": [
  {
   "cell_type": "code",
   "execution_count": null,
   "id": "3efd4d81",
   "metadata": {},
   "outputs": [
    {
     "name": "stdout",
     "output_type": "stream",
     "text": [
      "Antibiotic options:  ['Ampicillin', 'Aztreonam', 'Cefepime', 'Cefoxitin', 'Cefuroxime', 'Ciprofloxacin', 'Gentamicin', 'Levofloxacin', 'Meropenem', 'Tetracycline', 'Tobramycin', 'Trimethoprim']\n"
     ]
    },
    {
     "name": "stdin",
     "output_type": "stream",
     "text": [
      "Enter index of desired antibiotic:  0\n"
     ]
    },
    {
     "name": "stdout",
     "output_type": "stream",
     "text": [
      "Confirmed antibiotic selection:  Ampicillin\n"
     ]
    },
    {
     "name": "stderr",
     "output_type": "stream",
     "text": [
      "Processing...\n"
     ]
    }
   ],
   "source": [
    "from custom_dataset_generator import *\n",
    "from pytictoc import TicToc\n",
    "import pandas as pd\n",
    "import warnings\n",
    "\n",
    "#initialize timer\n",
    "t = TicToc()\n",
    "t.tic()\n",
    "\n",
    "#self, root, data_path, metadata, features, transform=None, pre_transform , pre_filter=None\n",
    "data_path = \"/panfs/jay/groups/8/daoutidi/jone4254/Metabolic_Networks/Code/Modelseed/Repository/data_acquisition/Stoichiometric_matrices\"\n",
    "feature_path = \"/panfs/jay/groups/8/daoutidi/jone4254/Metabolic_Networks/Code/Modelseed/Repository/node_features/feature_files\"\n",
    "metadata = pd.read_csv('Ecoli_metadata.csv')\n",
    "\n",
    "#suppress tensor creation warning from PyTorch \n",
    "warnings.filterwarnings('ignore')\n",
    "EColiDataset(str(os.getcwd()), data_path, feature_path, metadata, pre_transform='metabolite')\n",
    "t.toc()"
   ]
  },
  {
   "cell_type": "code",
   "execution_count": null,
   "id": "08d89a1a",
   "metadata": {},
   "outputs": [],
   "source": []
  }
 ],
 "metadata": {
  "kernelspec": {
   "display_name": "for_torch_agate",
   "language": "python",
   "name": "for_torch_agate"
  },
  "language_info": {
   "codemirror_mode": {
    "name": "ipython",
    "version": 3
   },
   "file_extension": ".py",
   "mimetype": "text/x-python",
   "name": "python",
   "nbconvert_exporter": "python",
   "pygments_lexer": "ipython3",
   "version": "3.10.9"
  }
 },
 "nbformat": 4,
 "nbformat_minor": 5
}
